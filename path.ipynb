{
 "cells": [
  {
   "cell_type": "markdown",
   "metadata": {},
   "source": [
    "该文件同级目录下已有1.ipynb"
   ]
  },
  {
   "cell_type": "code",
   "execution_count": 3,
   "metadata": {},
   "outputs": [
    {
     "output_type": "stream",
     "name": "stdout",
     "text": [
      "d:\\MyCode\\Github\\template\nd:\\MyCode\\Github\\template\\1.txt\nd:\\MyCode\\Github\\template\nd:\\MyCode\\Github\\template\\1.ipynb\n"
     ]
    }
   ],
   "source": [
    "import os\n",
    "from os import path\n",
    "\n",
    "# os.path.join 连接路径\n",
    "p = path.join(os.getcwd(), '1.txt')\n",
    "print(os.getcwd())\n",
    "print(p)\n",
    "\n",
    "# abspath() 返回文件的路径（绝对路径）\n",
    "print(path.abspath(''))\n",
    "print(path.abspath('1.ipynb'))"
   ]
  },
  {
   "cell_type": "code",
   "execution_count": 4,
   "metadata": {},
   "outputs": [
    {
     "output_type": "stream",
     "name": "stdout",
     "text": [
      "d:\\MyCode\\Github\\template\\1.txt\nd:\\MyCode\\Github\\template\n1.txt\ntemplate\nd:\\MyCode\\Github\\template\nd:\\MyCode\\Github\n"
     ]
    }
   ],
   "source": [
    "print(p)\n",
    "print(os.getcwd())\n",
    "\n",
    "# basename 路径名的最后一项\n",
    "print(path.basename(p))\n",
    "print(path.basename(os.getcwd()))\n",
    "\n",
    "# dirname() 返回前面的目录名\n",
    "print(path.dirname(p))\n",
    "print(path.dirname(os.getcwd()))"
   ]
  },
  {
   "cell_type": "code",
   "execution_count": 5,
   "metadata": {},
   "outputs": [
    {
     "output_type": "stream",
     "name": "stdout",
     "text": [
      "d:\\MyCode\\Github\\template\nd:\\MyCode\\Github\\template\\d\n"
     ]
    }
   ],
   "source": [
    "# commonpath \n",
    "# 返回最长的公共子目录\n",
    "\n",
    "pli = [path.join(os.getcwd(), 'dir1', '1.txt'), path.join(os.getcwd(), 'dir2', 'dir3', '2.txt'),\n",
    "path.join(os.getcwd(), 'd3.txt')]\n",
    "\n",
    "print(path.commonpath(pli))\n",
    "\n",
    "# commonprefix\n",
    "# 返回最长的公共前缀\n",
    "\n",
    "print(path.commonprefix(pli))"
   ]
  },
  {
   "cell_type": "code",
   "execution_count": 6,
   "metadata": {},
   "outputs": [
    {
     "output_type": "stream",
     "name": "stdout",
     "text": [
      "d:\\MyCode\\Github\\template\\1.txt\nFalse\nTrue\nFalse\nTrue\n"
     ]
    }
   ],
   "source": [
    "# exists() 该目录是否存在，相对绝对路径都可以判断\n",
    "\n",
    "print(p)\n",
    "print(path.exists(p))\n",
    "print(path.exists(os.getcwd()))\n",
    "print(path.exists('1.ipynb'))\n",
    "\n",
    "# 创建目录\n",
    "os.mkdir('1.ipynb')\n",
    "print(path.exists('1.ipynb'))"
   ]
  },
  {
   "cell_type": "code",
   "execution_count": 7,
   "metadata": {},
   "outputs": [
    {
     "output_type": "stream",
     "name": "stdout",
     "text": [
      "time.struct_time(tm_year=1970, tm_mon=1, tm_mday=1, tm_hour=0, tm_min=0, tm_sec=0, tm_wday=3, tm_yday=1, tm_isdst=0)\n1603702831.6833718\n1603702831.6833718\n1603702831.6833718\n"
     ]
    }
   ],
   "source": [
    "# 分别是距离时间epoch的上次访问时间，上次修改时间，创建时间，单位:秒\n",
    "import time\n",
    "\n",
    "print(time.gmtime(0))  #epoch time \n",
    "\n",
    "path1 = path.join(os.getcwd(), '1.ipynb')\n",
    "print(path.getatime(path1))\n",
    "\n",
    "print(path.getmtime(path1))\n",
    "print(path.getctime(path1))"
   ]
  },
  {
   "cell_type": "code",
   "execution_count": 8,
   "metadata": {},
   "outputs": [
    {
     "output_type": "stream",
     "name": "stdout",
     "text": [
      "8192 \n\n0\n"
     ]
    },
    {
     "output_type": "error",
     "ename": "FileNotFoundError",
     "evalue": "[WinError 2] 系统找不到指定的文件。: 'd:\\\\MyCode\\\\Github\\\\template\\\\Appdata'",
     "traceback": [
      "\u001b[1;31m---------------------------------------------------------------------------\u001b[0m",
      "\u001b[1;31mFileNotFoundError\u001b[0m                         Traceback (most recent call last)",
      "\u001b[1;32m<ipython-input-8-64b61863fb23>\u001b[0m in \u001b[0;36m<module>\u001b[1;34m\u001b[0m\n\u001b[0;32m     12\u001b[0m \u001b[1;33m\u001b[0m\u001b[0m\n\u001b[0;32m     13\u001b[0m \u001b[0mprint\u001b[0m\u001b[1;33m(\u001b[0m\u001b[0mpath\u001b[0m\u001b[1;33m.\u001b[0m\u001b[0mgetsize\u001b[0m\u001b[1;33m(\u001b[0m\u001b[0mpath1\u001b[0m\u001b[1;33m)\u001b[0m\u001b[1;33m)\u001b[0m\u001b[1;33m\u001b[0m\u001b[1;33m\u001b[0m\u001b[0m\n\u001b[1;32m---> 14\u001b[1;33m \u001b[0mprint\u001b[0m\u001b[1;33m(\u001b[0m\u001b[0mpath\u001b[0m\u001b[1;33m.\u001b[0m\u001b[0mgetsize\u001b[0m\u001b[1;33m(\u001b[0m\u001b[0mpath2\u001b[0m\u001b[1;33m)\u001b[0m\u001b[1;33m)\u001b[0m\u001b[1;33m\u001b[0m\u001b[1;33m\u001b[0m\u001b[0m\n\u001b[0m\u001b[0;32m     15\u001b[0m \u001b[0mprint\u001b[0m\u001b[1;33m(\u001b[0m\u001b[0mpath\u001b[0m\u001b[1;33m.\u001b[0m\u001b[0mgetsize\u001b[0m\u001b[1;33m(\u001b[0m\u001b[0mpath3\u001b[0m\u001b[1;33m)\u001b[0m\u001b[1;33m)\u001b[0m\u001b[1;33m\u001b[0m\u001b[1;33m\u001b[0m\u001b[0m\n\u001b[0;32m     16\u001b[0m \u001b[0mprint\u001b[0m\u001b[1;33m(\u001b[0m\u001b[0mpath\u001b[0m\u001b[1;33m.\u001b[0m\u001b[0mgetsize\u001b[0m\u001b[1;33m(\u001b[0m\u001b[1;34m'D:\\\\Visual Studio'\u001b[0m\u001b[1;33m)\u001b[0m\u001b[1;33m)\u001b[0m\u001b[1;33m\u001b[0m\u001b[1;33m\u001b[0m\u001b[0m\n",
      "\u001b[1;32mD:\\Python\\lib\\genericpath.py\u001b[0m in \u001b[0;36mgetsize\u001b[1;34m(filename)\u001b[0m\n\u001b[0;32m     48\u001b[0m \u001b[1;32mdef\u001b[0m \u001b[0mgetsize\u001b[0m\u001b[1;33m(\u001b[0m\u001b[0mfilename\u001b[0m\u001b[1;33m)\u001b[0m\u001b[1;33m:\u001b[0m\u001b[1;33m\u001b[0m\u001b[1;33m\u001b[0m\u001b[0m\n\u001b[0;32m     49\u001b[0m     \u001b[1;34m\"\"\"Return the size of a file, reported by os.stat().\"\"\"\u001b[0m\u001b[1;33m\u001b[0m\u001b[1;33m\u001b[0m\u001b[0m\n\u001b[1;32m---> 50\u001b[1;33m     \u001b[1;32mreturn\u001b[0m \u001b[0mos\u001b[0m\u001b[1;33m.\u001b[0m\u001b[0mstat\u001b[0m\u001b[1;33m(\u001b[0m\u001b[0mfilename\u001b[0m\u001b[1;33m)\u001b[0m\u001b[1;33m.\u001b[0m\u001b[0mst_size\u001b[0m\u001b[1;33m\u001b[0m\u001b[1;33m\u001b[0m\u001b[0m\n\u001b[0m\u001b[0;32m     51\u001b[0m \u001b[1;33m\u001b[0m\u001b[0m\n\u001b[0;32m     52\u001b[0m \u001b[1;33m\u001b[0m\u001b[0m\n",
      "\u001b[1;31mFileNotFoundError\u001b[0m: [WinError 2] 系统找不到指定的文件。: 'd:\\\\MyCode\\\\Github\\\\template\\\\Appdata'"
     ]
    }
   ],
   "source": [
    "# getsize(), 文件大小，单位：byte\n",
    "# 如果是一个文件，那么就是文件大小；如果是文件夹，那么就是文件夹大小，\n",
    "# 文件夹大小是指文件夹这个数据结构在文件系统中占用的大小，\n",
    "# NTFS文件系统中一个簇通常是4096字节\n",
    "# 所以NTFS中任何一个文件夹的大小都是4096字节。\n",
    "path1 = path.join(os.getcwd(), '1.ipynb')\n",
    "path2 = path.join(os.getcwd(), 'Appdata')\n",
    "path3 = path.join(os.getcwd(), 'source')\n",
    "path4 = path.join(os.getcwd(), 'Documents')\n",
    "\n",
    "print(path.getsize(os.getcwd()), '\\n')\n",
    "\n",
    "print(path.getsize(path1))\n",
    "print(path.getsize(path2))\n",
    "print(path.getsize(path3))\n",
    "print(path.getsize('D:\\\\Visual Studio'))"
   ]
  },
  {
   "cell_type": "code",
   "execution_count": 4,
   "metadata": {},
   "outputs": [
    {
     "output_type": "stream",
     "name": "stdout",
     "text": [
      "True\nTrue \n\nFalse\nTrue\nFalse \n\nTrue\nFalse\nFalse \n\nFalse\nFalse\nFalse\n"
     ]
    }
   ],
   "source": [
    "# isabs()  判断是否是绝对路径,不判断是否存在\n",
    "import os\n",
    "from os import path\n",
    "\n",
    "print(path.isabs(os.getcwd() + '\\\\ttttttt'))\n",
    "print(path.isabs(os.getcwd()), '\\n')\n",
    "\n",
    "# isfile() 判断路径是否存在以及是否是正常的文件\n",
    "\n",
    "print(path.isfile(os.getcwd()))\n",
    "print(path.isfile(os.getcwd() + '\\\\path.ipynb'))\n",
    "print(path.isfile(os.getcwd() + '\\\\1111111.ipynb'), '\\n')\n",
    "\n",
    "# isdir() 判断路径是否存在以及是否是目录文件\n",
    "\n",
    "print(path.isdir(os.getcwd()))\n",
    "print(path.isdir(os.getcwd() + '\\\\1.ipynb'))\n",
    "print(path.isdir(os.getcwd() + '111'), '\\n')\n",
    "\n",
    "# islink() 判断路径文件是否存在以及是否是符号链接\n",
    "\n",
    "print(path.islink(os.getcwd()))\n",
    "print(path.islink(os.getcwd() + '\\\\1.ipynb'))\n",
    "print(path.islink(os.getcwd() + '111'))"
   ]
  },
  {
   "cell_type": "code",
   "execution_count": 2,
   "metadata": {},
   "outputs": [
    {
     "output_type": "stream",
     "name": "stdout",
     "text": [
      "c:\\tmp\\1\nc:\\tmp\\1\nc:\\tmp\\1\nc:\\tmp\\\\\\1 \n\nc:\\tmp\\1\nc:\\TMP\\1\nc:\\tmp\\1\nc:\\tmp\\1\nc:\\1 \n\nc:\\tmp\\1\nc:\\TMP\\1\nc:\\tmp\\1\nc:\\tmp\\1\nc:\\1\nd:\\MyCode\\Github\\template \n\nd:\\MyCode\\Github\\template\\1.ipynb\n"
     ]
    },
    {
     "output_type": "error",
     "ename": "ValueError",
     "evalue": "path is on mount 'd:', start on mount 'c:'",
     "traceback": [
      "\u001b[1;31m---------------------------------------------------------------------------\u001b[0m",
      "\u001b[1;31mValueError\u001b[0m                                Traceback (most recent call last)",
      "\u001b[1;32m<ipython-input-2-ad9ffd0a891d>\u001b[0m in \u001b[0;36m<module>\u001b[1;34m\u001b[0m\n\u001b[0;32m     26\u001b[0m \u001b[1;33m\u001b[0m\u001b[0m\n\u001b[0;32m     27\u001b[0m \u001b[0mprint\u001b[0m\u001b[1;33m(\u001b[0m\u001b[0mpath\u001b[0m\u001b[1;33m.\u001b[0m\u001b[0mabspath\u001b[0m\u001b[1;33m(\u001b[0m\u001b[1;34m'1.ipynb'\u001b[0m\u001b[1;33m)\u001b[0m\u001b[1;33m)\u001b[0m\u001b[1;33m\u001b[0m\u001b[1;33m\u001b[0m\u001b[0m\n\u001b[1;32m---> 28\u001b[1;33m \u001b[0mprint\u001b[0m\u001b[1;33m(\u001b[0m\u001b[0mpath\u001b[0m\u001b[1;33m.\u001b[0m\u001b[0mrelpath\u001b[0m\u001b[1;33m(\u001b[0m\u001b[1;34m'1.ipynb'\u001b[0m\u001b[1;33m,\u001b[0m \u001b[0mstart\u001b[0m \u001b[1;33m=\u001b[0m \u001b[1;34m'c:\\\\Users'\u001b[0m\u001b[1;33m)\u001b[0m\u001b[1;33m)\u001b[0m\u001b[1;33m\u001b[0m\u001b[1;33m\u001b[0m\u001b[0m\n\u001b[0m",
      "\u001b[1;32mD:\\Python\\lib\\ntpath.py\u001b[0m in \u001b[0;36mrelpath\u001b[1;34m(path, start)\u001b[0m\n\u001b[0;32m    560\u001b[0m         \u001b[1;32mif\u001b[0m \u001b[0mnormcase\u001b[0m\u001b[1;33m(\u001b[0m\u001b[0mstart_drive\u001b[0m\u001b[1;33m)\u001b[0m \u001b[1;33m!=\u001b[0m \u001b[0mnormcase\u001b[0m\u001b[1;33m(\u001b[0m\u001b[0mpath_drive\u001b[0m\u001b[1;33m)\u001b[0m\u001b[1;33m:\u001b[0m\u001b[1;33m\u001b[0m\u001b[1;33m\u001b[0m\u001b[0m\n\u001b[0;32m    561\u001b[0m             raise ValueError(\"path is on mount %r, start on mount %r\" % (\n\u001b[1;32m--> 562\u001b[1;33m                 path_drive, start_drive))\n\u001b[0m\u001b[0;32m    563\u001b[0m \u001b[1;33m\u001b[0m\u001b[0m\n\u001b[0;32m    564\u001b[0m         \u001b[0mstart_list\u001b[0m \u001b[1;33m=\u001b[0m \u001b[1;33m[\u001b[0m\u001b[0mx\u001b[0m \u001b[1;32mfor\u001b[0m \u001b[0mx\u001b[0m \u001b[1;32min\u001b[0m \u001b[0mstart_rest\u001b[0m\u001b[1;33m.\u001b[0m\u001b[0msplit\u001b[0m\u001b[1;33m(\u001b[0m\u001b[0msep\u001b[0m\u001b[1;33m)\u001b[0m \u001b[1;32mif\u001b[0m \u001b[0mx\u001b[0m\u001b[1;33m]\u001b[0m\u001b[1;33m\u001b[0m\u001b[1;33m\u001b[0m\u001b[0m\n",
      "\u001b[1;31mValueError\u001b[0m: path is on mount 'd:', start on mount 'c:'"
     ]
    }
   ],
   "source": [
    "# normcase() 将路径名的大写字母转换为小写字母，并将正斜杠转为反斜杠(windows)\n",
    "\n",
    "print(path.normcase('c:\\\\tmp\\\\1'))\n",
    "print(path.normcase('c:\\\\TMP\\\\1'))\n",
    "print(path.normcase('c:\\\\tmp/1'))\n",
    "print(path.normcase('c:\\\\tmp///1'), '\\n')\n",
    "\n",
    "# normpath() 将路径名多余的分割符并进行化简, 正斜杠转为反斜杠(windows)\n",
    "\n",
    "print(path.normpath('c:\\\\tmp\\\\1'))\n",
    "print(path.normpath('c:\\\\TMP\\\\1'))\n",
    "print(path.normpath('c:\\\\tmp/1'))\n",
    "print(path.normpath('c:\\\\tmp///1'))\n",
    "print(path.normpath('c:\\\\tmp///../1'), '\\n')\n",
    "\n",
    "# realpath() 在norm后返回真实路径，如符号链接的真实地址\n",
    "# 参数为空则返回当前目录\n",
    "print(path.realpath('c:\\\\tmp\\\\1'))\n",
    "print(path.realpath('c:\\\\TMP\\\\1'))\n",
    "print(path.realpath('c:\\\\tmp/1'))\n",
    "print(path.realpath('c:\\\\tmp///1'))\n",
    "print(path.realpath('c:\\\\tmp///../1'))\n",
    "print(path.realpath(''), '\\n')\n",
    "\n",
    "# relpath(path, start = os.curdir) 从start开始，求path的相对路径，默认从当前工作目录开始\n",
    "\n",
    "print(path.abspath('1.ipynb'))\n",
    "print(path.relpath('1.ipynb', start = 'c:\\\\Users'))"
   ]
  },
  {
   "cell_type": "code",
   "execution_count": 102,
   "metadata": {},
   "outputs": [
    {
     "data": {
      "text/plain": [
       "True"
      ]
     },
     "execution_count": 102,
     "metadata": {},
     "output_type": "execute_result"
    }
   ],
   "source": [
    "# samefile() 判断是否是同一个文件，从device number以及i-node number来判断\n",
    "\n",
    "path.samefile('1.ipynb', '1.ipynb')\n",
    "\n",
    "# sameopenfile() 判断两个文件描述符是否是指向同一个文件\n",
    "# path.sameopenfile('1.ipynb', '1.ipynb')"
   ]
  },
  {
   "cell_type": "code",
   "execution_count": 107,
   "metadata": {},
   "outputs": [
    {
     "name": "stdout",
     "output_type": "stream",
     "text": [
      "C:\\Users\\MI\\1.ipynb\n",
      "('C:\\\\Users\\\\MI', '1.ipynb')\n",
      "\\Users\\MI\\1.ipynb\n"
     ]
    }
   ],
   "source": [
    "# split() 分割路径为dirname和basename\n",
    "\n",
    "print(path.abspath('1.ipynb'))\n",
    "print(path.split(path.abspath('1.ipynb')))\n",
    "\n",
    "# splitdrive() 把路径分为（drive, tail)\n",
    "\n",
    "print(path.splitdrive(path.abspath('1.ipynb')))"
   ]
  },
  {
   "cell_type": "code",
   "execution_count": 4,
   "metadata": {},
   "outputs": [
    {
     "output_type": "stream",
     "name": "stdout",
     "text": [
      "<generator object walk at 0x000001B6B40926C8>\n['.git', '.gitattributes', '.vscode', 'class_indices.json', 'cook.csv', 'data.csv', 'DataLoader.py', 'EndswithSpecial.py', 'FileReadWrite.py', 'GetPath.py', 'ImgTransform.py', 'Init.ipynb', 'matplotlib.ipynb', 'model', 'path.ipynb', 'predict.py', 'README.md', 'SaveModel.py', 'seaborn.ipynb', 'SearchDir.py', 'split_data_to_train_val.py', 'test', 'test.ipynb', 'Test.py', 'Time.py', 'Train.py', 'trick.ipynb']\n"
     ]
    }
   ],
   "source": [
    "# 遍历当前路径下目录和文件\n",
    "import os\n",
    "\n",
    "print(os.listdir())"
   ]
  }
 ],
 "metadata": {
  "kernelspec": {
   "display_name": "Python 3",
   "language": "python",
   "name": "python3"
  },
  "language_info": {
   "codemirror_mode": {
    "name": "ipython",
    "version": 3
   },
   "file_extension": ".py",
   "mimetype": "text/x-python",
   "name": "python",
   "nbconvert_exporter": "python",
   "pygments_lexer": "ipython3",
   "version": "3.7.9-final"
  }
 },
 "nbformat": 4,
 "nbformat_minor": 4
}