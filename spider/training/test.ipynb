{
 "metadata": {
  "language_info": {
   "codemirror_mode": {
    "name": "ipython",
    "version": 3
   },
   "file_extension": ".py",
   "mimetype": "text/x-python",
   "name": "python",
   "nbconvert_exporter": "python",
   "pygments_lexer": "ipython3",
   "version": "3.7.9"
  },
  "orig_nbformat": 2,
  "kernelspec": {
   "name": "python379jvsc74a57bd0d94ea807e9dd88dec85d6135010093db08445b4f78f2386ac1d177de969ce657",
   "display_name": "Python 3.7.9 64-bit"
  },
  "metadata": {
   "interpreter": {
    "hash": "d94ea807e9dd88dec85d6135010093db08445b4f78f2386ac1d177de969ce657"
   }
  }
 },
 "nbformat": 4,
 "nbformat_minor": 2,
 "cells": [
  {
   "cell_type": "code",
   "execution_count": 2,
   "metadata": {},
   "outputs": [],
   "source": [
    "import time\n",
    "\n",
    "import selenium\n",
    "from selenium import webdriver\n",
    "from selenium.webdriver import ActionChains\n",
    "from selenium.webdriver.common.by import By\n",
    "from selenium import webdriver\n",
    "from selenium.webdriver.common.keys import Keys\n",
    "from selenium.webdriver.support import expected_conditions as EC\n",
    "from selenium.webdriver.support.wait import WebDriverWait\n"
   ]
  },
  {
   "cell_type": "code",
   "execution_count": 3,
   "metadata": {},
   "outputs": [],
   "source": [
    "def find_and_input(browser: selenium.webdriver.chrome.webdriver.WebDriver, key: str, value: str, input: str):\n",
    "    browser.find_element(key, value).send_keys(input)"
   ]
  },
  {
   "cell_type": "code",
   "execution_count": 4,
   "metadata": {},
   "outputs": [],
   "source": [
    "def sign_in(browser: selenium.webdriver.chrome.webdriver.WebDriver, account: str, password: str):\n",
    "    input1 = browser.find_element(By.ID, 'username')\n",
    "    input2 = browser.find_element(By.ID, 'password')\n",
    "    input1.send_keys(account)\n",
    "    input2.send_keys(password)"
   ]
  },
  {
   "cell_type": "code",
   "execution_count": 6,
   "metadata": {},
   "outputs": [],
   "source": [
    "chrome_options = webdriver.ChromeOptions()\n",
    "chrome_options.add_experimental_option(\"excludeSwitches\", ['enable-automation'])\n",
    "# 谷歌文档提到需要加上这个属性来规避bug\n",
    "chrome_options.add_argument('--disable-gpu')\n",
    "\n",
    "chrome_options.add_argument('user-agent=Mozilla/5.0 (Windows NT 10.0; Win64; x64) AppleWebKit/537.36 (KHTML, like Gecko) Chrome/90.0.4430.212 Safari/537.36')\n",
    "\n",
    "chrome_options.add_argument('Cookie=route=c646de0d09c9aceac3feae3b5b7928b7; org.springframework.web.servlet.i18n.CookieLocaleResolver.LOCALE=zh_CN; _ga=GA1.3.1219619477.1599268001; III_EXPT_FILE=aa3199; III_SESSION_ID=86ed92a9a8339faaac90e3262516fcea; SESSION_LANGUAGE=eng; FSSBBIl1UgzbN7NS=5g6Vwqkqt7hoZAd2IXfUTjZ.arZaAAW.O81EugFYL2lSCgq.TUTTzNewilXR5PTYTwp.Tq293pKIZfaX6Q_D8aA; FSSBBIl1UgzbN7NO=5rh6ZoX_94LXh0dYBH9iwPQ1FtKh4OJQeDG.FLj_aWa_kQpxyRHOuTbIOfd5Q.8ljeR3O1LNCAnc7TGO_x6AdMq; UM_distinctid=178f9efb01c8d6-03a1fd86b7e22d-d7e163f-144000-178f9efb01d8b7; zg_did={\"did\": \"1745bce79f1bec-0eb6fd28be7837-f7b1332-144000-1745bce79f2d91\"}; zg_={\"sid\": 1623211860929,\"updated\": 1623211860932,\"info\": 1622782402065,\"superProperty\": \"{}\",\"platform\": \"{}\",\"utm\": \"{}\",\"referrerDomain\": \"eportal.uestc.edu.cn\",\"cuid\": \"202022080526\",\"zs\": 0,\"sc\": 0,\"firstScreen\": 1623211860929}; JSESSIONID=4jL2RvggVstQWL7jdVlFJJdZEbIZfsbw1ei0rFrI-qZ4KORv5tEF!-204362407; FSSBBIl1UgzbN7NP=53WE8wDkcov3qqqmye9M_BqSGRJ3LX8AeGmPVtAPeP1c5eG.nhuLF2PpZH1Aa8a9vR0fQdX_U5yEuJr7qMi1jgyk3igqXPoa7mj9cRPcqDpIXoFYx82.r7B.4upxrj2k_S3cu9bJaLOKBVXM6R6XScO1kBBWU4UflaPPur2oDlpcrglsXuAUz6GEdiQyp6E3sombLHGrUKOgypUXBpxs6wZ6NKJUlnYzOXHQ0C0zZPQe.qGkZqktpTiGUO.p.7DYSWZ_6ARL_ZhfNdDD0Gy2Pp.Tvy312KYOEZa2q_8e76yzq')\n",
    "\n",
    "browser = webdriver.Chrome(options=chrome_options)\n",
    "\n",
    "browser.execute_cdp_cmd(\"Page.addScriptToEvaluateOnNewDocument\", {\n",
    "          \"source\": \"\"\"\n",
    "            Object.defineProperty(navigator, 'webdriver', {\n",
    "              get: () => undefined\n",
    "            })\n",
    "          \"\"\"\n",
    "        })\n",
    "try:\n",
    "    browser.get('https://eportal.uestc.edu.cn/new/index.html')\n",
    "    browser.find_element(By.ID, 'ampHasNoLogin').click()\n",
    "    sign_in(browser, '202022080526', 'Tk@1923.com')\n",
    "    # time.sleep(5)\n",
    "    browser.find_element(By.CLASS_NAME, 'auth_login_btn').click()\n",
    "finally:\n",
    "    pass\n",
    "    # time.sleep(5)\n",
    "\n",
    "    # browser.close()"
   ]
  }
 ]
}