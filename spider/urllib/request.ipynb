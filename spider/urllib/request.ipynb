{
 "metadata": {
  "language_info": {
   "codemirror_mode": {
    "name": "ipython",
    "version": 3
   },
   "file_extension": ".py",
   "mimetype": "text/x-python",
   "name": "python",
   "nbconvert_exporter": "python",
   "pygments_lexer": "ipython3",
   "version": "3.7.9-final"
  },
  "orig_nbformat": 2,
  "kernelspec": {
   "name": "python3",
   "display_name": "Python 3.7.9 64-bit",
   "metadata": {
    "interpreter": {
     "hash": "d94ea807e9dd88dec85d6135010093db08445b4f78f2386ac1d177de969ce657"
    }
   }
  }
 },
 "nbformat": 4,
 "nbformat_minor": 2,
 "cells": [
  {
   "cell_type": "code",
   "execution_count": 7,
   "metadata": {},
   "outputs": [
    {
     "output_type": "stream",
     "name": "stdout",
     "text": [
      "OK\n"
     ]
    }
   ],
   "source": [
    "from urllib import request\n",
    "\n",
    "# timeout: 单位s 对Http,https,ftp有效\n",
    "\n",
    "app = request.urlopen('http://www.baidu.com', timeout=0.1, )\n",
    "print(app.reason)"
   ]
  },
  {
   "cell_type": "code",
   "execution_count": 16,
   "metadata": {
    "tags": []
   },
   "outputs": [
    {
     "output_type": "stream",
     "name": "stdout",
     "text": [
      "else\n<title>百度一下，你就知道</title>\n"
     ]
    }
   ],
   "source": [
    "from urllib.request import urlopen\n",
    "from bs4 import BeautifulSoup\n",
    "\n",
    "try:\n",
    "    html = urlopen('http://www.baidu.com')\n",
    "except BaseException as e:\n",
    "    print('error')\n",
    "else :\n",
    "    print('else')\n",
    "\n",
    "# print(html.read())\n",
    "bs = BeautifulSoup(html, 'html.parser')\n",
    "print(bs.title)\n",
    "# print(bs.)"
   ]
  }
 ]
}