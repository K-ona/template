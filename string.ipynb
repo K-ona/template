{
 "metadata": {
  "language_info": {
   "codemirror_mode": {
    "name": "ipython",
    "version": 3
   },
   "file_extension": ".py",
   "mimetype": "text/x-python",
   "name": "python",
   "nbconvert_exporter": "python",
   "pygments_lexer": "ipython3",
   "version": 3
  },
  "orig_nbformat": 2
 },
 "nbformat": 4,
 "nbformat_minor": 2,
 "cells": [
  {
   "cell_type": "code",
   "execution_count": null,
   "metadata": {},
   "outputs": [],
   "source": [
    "# find all substr indices of str\n",
    "def find_all_substr(str, sub):\n",
    "    sub_index = [-1]\n",
    "    while str.find(sub, sub_index[-1] + 1) != -1:\n",
    "        sub_index.append(str.find(sub, sub_index[-1] + 1))\n",
    "\n",
    "    return sub_index[1:]"
   ]
  }
 ]
}