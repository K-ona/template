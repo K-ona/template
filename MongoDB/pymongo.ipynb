{
 "metadata": {
  "language_info": {
   "codemirror_mode": {
    "name": "ipython",
    "version": 3
   },
   "file_extension": ".py",
   "mimetype": "text/x-python",
   "name": "python",
   "nbconvert_exporter": "python",
   "pygments_lexer": "ipython3",
   "version": "3.7.9-final"
  },
  "orig_nbformat": 2,
  "kernelspec": {
   "name": "python3",
   "display_name": "Python 3.7.9 64-bit",
   "metadata": {
    "interpreter": {
     "hash": "d94ea807e9dd88dec85d6135010093db08445b4f78f2386ac1d177de969ce657"
    }
   }
  }
 },
 "nbformat": 4,
 "nbformat_minor": 2,
 "cells": [
  {
   "cell_type": "code",
   "execution_count": 2,
   "metadata": {},
   "outputs": [],
   "source": [
    "import pymongo\n",
    "\n",
    "# 连接MongoDB\n",
    "client = pymongo.MongoClient(host='localhost', port=27017)\n",
    "client = pymongo.MongoClient('mongodb://localhost:27017/')\n",
    "# 指定数据库\n",
    "db = client.spider\n",
    "db = client['spider']\n",
    "# 指定集合\n",
    "collection = db.students\n",
    "collection = db['students']"
   ]
  },
  {
   "cell_type": "code",
   "execution_count": 3,
   "metadata": {},
   "outputs": [
    {
     "output_type": "stream",
     "name": "stdout",
     "text": [
      "6065edc6d9635fe105852195\n"
     ]
    }
   ],
   "source": [
    "# 插入单条数据\n",
    "student = {\n",
    "    'id': '20170101',\n",
    "    'name': 'Jordan',\n",
    "    'age': 20,\n",
    "    'gender': 'male'\n",
    "}\n",
    "result = collection.insert_one(student)\n",
    "print(result.inserted_id)"
   ]
  },
  {
   "cell_type": "code",
   "execution_count": 4,
   "metadata": {},
   "outputs": [
    {
     "output_type": "stream",
     "name": "stdout",
     "text": [
      "[ObjectId('6065edc6d9635fe105852196'), ObjectId('6065edc6d9635fe105852197')]\n6065edc6d9635fe105852196\n"
     ]
    }
   ],
   "source": [
    "# 插入多条数据\n",
    "student1 = {\n",
    "    'id': '20170101',\n",
    "    'name': 'Jordan',\n",
    "    'age': 20,\n",
    "    'gender': 'male'\n",
    "}\n",
    "\n",
    "student2 = {\n",
    "    'id': '20170202',\n",
    "    'name': 'Mike',\n",
    "    'age': 21,\n",
    "    'gender': 'male'\n",
    "}\n",
    "\n",
    "result = collection.insert_many([student1, student2])\n",
    "print(result.inserted_ids)\n",
    "print(result.inserted_ids[0])"
   ]
  },
  {
   "cell_type": "code",
   "execution_count": 5,
   "metadata": {},
   "outputs": [
    {
     "output_type": "stream",
     "name": "stdout",
     "text": [
      "<class 'dict'>\n{'_id': ObjectId('606549c7f9d122c63b3f2824'), 'id': '20170202', 'name': 'Mike', 'age': 25, 'gender': 'male'}\n"
     ]
    }
   ],
   "source": [
    "# 查询单个结果\n",
    "\n",
    "result = collection.find_one({'name': 'Mike'})\n",
    "print(type(result))\n",
    "print(result)"
   ]
  },
  {
   "cell_type": "code",
   "execution_count": 6,
   "metadata": {},
   "outputs": [
    {
     "output_type": "stream",
     "name": "stdout",
     "text": [
      "{'_id': ObjectId('606549c7f9d122c63b3f2824'), 'id': '20170202', 'name': 'Mike', 'age': 25, 'gender': 'male'}\n"
     ]
    }
   ],
   "source": [
    "from bson.objectid import ObjectId\n",
    "\n",
    "# 用_id查询\n",
    "result = collection.find_one({'_id': ObjectId('606549c7f9d122c63b3f2824')})\n",
    "print(result)"
   ]
  },
  {
   "cell_type": "code",
   "execution_count": 7,
   "metadata": {},
   "outputs": [
    {
     "output_type": "stream",
     "name": "stdout",
     "text": [
      "<pymongo.cursor.Cursor object at 0x000001B1725B3988>\n<class 'pymongo.cursor.Cursor'>\n{'_id': ObjectId('6065edc6d9635fe105852195'), 'id': '20170101', 'name': 'Jordan', 'age': 20, 'gender': 'male'}\n{'_id': ObjectId('6065edc6d9635fe105852196'), 'id': '20170101', 'name': 'Jordan', 'age': 20, 'gender': 'male'}\n"
     ]
    }
   ],
   "source": [
    "# 查询所有结果\n",
    "results = collection.find({'age': 20})\n",
    "print(results)\n",
    "print(type(results))\n",
    "for result in results:\n",
    "    print(result)"
   ]
  },
  {
   "source": [
    "复杂查询条件, 条件为一个字典\n",
    "\n",
    "$lt 小于 {'age': {'$lt': 20}}\n",
    "$gt 大于 {'age': {'$gt': 20}}\n",
    "$lte 小于等于 {'age': {'$lte': 20}}\n",
    "$gte 大于等于 {'age': {'$gte': 20}}\n",
    "$ne  不等于 {'age': {'$ne': 20}}\n",
    "$in 在范围内 {'age': {'$in': [20, 23]}}\n",
    "$nin 不在范围内 {'age': {'$nin': [20, 23]}}\n",
    "$regex name以M开头  {'name': {'$regex': '^M.*'}}\n",
    "$exists 属性是否存在 {'name': {'$exists': True}} (name 属性存在)\n",
    "$type 类型判断 {'age': {'$type': 'int'}} (age 的类型为 int)\n",
    "$mod 数字模操作 {'age': {'$mod': [5, 0]}} (年龄模 5 余 0)\n",
    "$text 文本查询 {'$text': {'$search': 'Mike'}} (text 类型的属性中包含 Mike 字符串)\n",
    "$where 高级条件查询 {'$where': 'obj.fans_count == obj.follows_count'} (自身粉丝数等于关注数)\n",
    "其中 obj 可换为 this  \n",
    "\n",
    "https://docs.mongodb.com/manual/reference/operator/query/"
   ],
   "cell_type": "code",
   "metadata": {},
   "execution_count": 8,
   "outputs": [
    {
     "output_type": "error",
     "ename": "SyntaxError",
     "evalue": "invalid syntax (<ipython-input-8-59e478753233>, line 3)",
     "traceback": [
      "\u001b[1;36m  File \u001b[1;32m\"<ipython-input-8-59e478753233>\"\u001b[1;36m, line \u001b[1;32m3\u001b[0m\n\u001b[1;33m    $lt 小于 {'age': {'$lt': 20}}\u001b[0m\n\u001b[1;37m    ^\u001b[0m\n\u001b[1;31mSyntaxError\u001b[0m\u001b[1;31m:\u001b[0m invalid syntax\n"
     ]
    }
   ]
  },
  {
   "cell_type": "code",
   "execution_count": 9,
   "metadata": {},
   "outputs": [
    {
     "output_type": "stream",
     "name": "stdout",
     "text": [
      "5\n",
      "2\n",
      "\n",
      "5\n",
      "2\n",
      "\n",
      "ipykernel_launcher:4: DeprecationWarning: count is deprecated. Use Collection.count_documents instead.\n",
      "ipykernel_launcher:6: DeprecationWarning: count is deprecated. Use Collection.count_documents instead.\n"
     ]
    }
   ],
   "source": [
    "# 计数\n",
    "\n",
    "# 用cursor.count()\n",
    "count = collection.find().count()\n",
    "print(count)\n",
    "count = collection.find({'age': 20}).count()\n",
    "print(count)\n",
    "print()\n",
    "\n",
    "# 用db.collection.countDocuments(query)\n",
    "count = collection.count_documents({})\n",
    "print(count)\n",
    "count = collection.count_documents({'age': 20})\n",
    "print(count)\n",
    "print()"
   ]
  },
  {
   "cell_type": "code",
   "execution_count": 11,
   "metadata": {},
   "outputs": [
    {
     "output_type": "stream",
     "name": "stdout",
     "text": [
      "['Jordan', 'Jordan', 'Jordan', 'Mike', 'Mike']\n"
     ]
    }
   ],
   "source": [
    "# 排序\n",
    "\n",
    "results = collection.find().sort('name', pymongo.ASCENDING)\n",
    "print([result['name'] for result in results])"
   ]
  },
  {
   "cell_type": "code",
   "execution_count": 12,
   "metadata": {},
   "outputs": [
    {
     "output_type": "stream",
     "name": "stdout",
     "text": [
      "['Jordan', 'Jordan', 'Jordan', 'Mike', 'Mike']\n['Jordan']\n"
     ]
    }
   ],
   "source": [
    "# 偏移\n",
    "\n",
    "# skip(n) 选择忽略前面n个元素\n",
    "results = collection.find().sort('name', pymongo.ASCENDING).skip(0)\n",
    "print([result['name'] for result in results])\n",
    "\n",
    "# limit(n) 只取n个结果\n",
    "results = collection.find().sort('name', pymongo.ASCENDING).skip(0).limit(1)\n",
    "print([result['name'] for result in results])\n",
    "\n",
    "# 值得注意的是，在数据库数量非常庞大的时候，如千万、亿级别，最好不要使用大的偏移量来查询数据，因为这样很可能导致内存溢出。这时可以使用类似如下操作来查询：\n",
    "# from bson.objectid import ObjectId\n",
    "# collection.find({'_id': {'$gt': ObjectId('593278c815c2602678bb2b8d')}})"
   ]
  },
  {
   "cell_type": "code",
   "execution_count": 24,
   "metadata": {},
   "outputs": [
    {
     "output_type": "stream",
     "name": "stdout",
     "text": [
      "<pymongo.results.UpdateResult object at 0x000001B1745AE348>\n1 0\n<pymongo.results.UpdateResult object at 0x000001B17459D308>\n1 1\n<pymongo.results.UpdateResult object at 0x000001B17459DBC8>\n2 2\n"
     ]
    }
   ],
   "source": [
    "# 更新\n",
    "\n",
    "condition = {'name': 'Jordan'}\n",
    "student = collection.find_one(condition)\n",
    "student['age'] = 25\n",
    "\n",
    "# 整体更新, \n",
    "# result = collection.update(condition, student)\n",
    "# print(result)\n",
    "\n",
    "# 字段更新\n",
    "# result = collection.update(condition, {'$set': student})\n",
    "# print(result)\n",
    "\n",
    "# update_one \n",
    "student['age'] = 20\n",
    "result = collection.update_one(condition, {'$set': student})\n",
    "print(result)\n",
    "print(result.matched_count, result.modified_count)\n",
    "\n",
    "condition = {'age': {'$gt': 20}}\n",
    "result = collection.update_one(condition, {'$inc': {'age': 1}})\n",
    "print(result)\n",
    "print(result.matched_count, result.modified_count)\n",
    "\n",
    "# update_many\n",
    "condition = {'age': {'$gt': 20}}\n",
    "result = collection.update_many(condition, {'$inc': {'age': 1}})\n",
    "print(result)\n",
    "print(result.matched_count, result.modified_count)"
   ]
  },
  {
   "cell_type": "code",
   "execution_count": 32,
   "metadata": {},
   "outputs": [
    {
     "output_type": "stream",
     "name": "stdout",
     "text": [
      "<pymongo.results.DeleteResult object at 0x000001B1746281C8>\n{'n': 0, 'ok': 1.0}\n0\n0\n"
     ]
    }
   ],
   "source": [
    "# 删除\n",
    "\n",
    "# result = collection.remove({'name': 'Kevin'})\n",
    "# print(result)\n",
    "\n",
    "# delete_one() 和 delete_many()\n",
    "result = collection.delete_one({'name': 'Kevin'})\n",
    "print(result)\n",
    "print(result.raw_result)\n",
    "print(result.deleted_count)\n",
    "\n",
    "result = collection.delete_many({'age': {'$lt': 25}})\n",
    "print(result.deleted_count)"
   ]
  }
 ]
}