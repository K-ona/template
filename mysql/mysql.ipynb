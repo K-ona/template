{
 "metadata": {
  "language_info": {
   "codemirror_mode": {
    "name": "ipython",
    "version": 3
   },
   "file_extension": ".py",
   "mimetype": "text/x-python",
   "name": "python",
   "nbconvert_exporter": "python",
   "pygments_lexer": "ipython3",
   "version": "3.7.9-final"
  },
  "orig_nbformat": 2,
  "kernelspec": {
   "name": "python3",
   "display_name": "Python 3.7.9 64-bit",
   "metadata": {
    "interpreter": {
     "hash": "d94ea807e9dd88dec85d6135010093db08445b4f78f2386ac1d177de969ce657"
    }
   }
  }
 },
 "nbformat": 4,
 "nbformat_minor": 2,
 "cells": [
  {
   "cell_type": "code",
   "execution_count": 3,
   "metadata": {},
   "outputs": [
    {
     "output_type": "stream",
     "name": "stdout",
     "text": [
      "Database version: ('8.0.23',)\n"
     ]
    }
   ],
   "source": [
    "import pymysql\n",
    "\n",
    "# 连接创建数据库\n",
    "db = pymysql.connect(host='localhost',user='root', password='konatang', port=3306)\n",
    "cursor = db.cursor()\n",
    "cursor.execute('SELECT VERSION()')\n",
    "data = cursor.fetchone()\n",
    "print('Database version:', data)\n",
    "# cursor.execute(\"CREATE DATABASE spiders DEFAULT CHARACTER SET utf8\")\n",
    "db.close()"
   ]
  },
  {
   "cell_type": "code",
   "execution_count": 7,
   "metadata": {},
   "outputs": [],
   "source": [
    "import pymysql\n",
    "\n",
    "# 创建表\n",
    "db = pymysql.connect(host='localhost', user='root', password='konatang', port=3306, db='spiders')\n",
    "cursor = db.cursor()\n",
    "sql = 'CREATE TABLE IF NOT EXISTS students (id VARCHAR(255) NOT NULL, name VARCHAR(255) NOT NULL, age INT NOT NULL, PRIMARY KEY (id))'\n",
    "cursor.execute(sql)\n",
    "db.close()"
   ]
  },
  {
   "cell_type": "code",
   "execution_count": 29,
   "metadata": {},
   "outputs": [
    {
     "output_type": "stream",
     "name": "stdout",
     "text": [
      "(1062, \"Duplicate entry '20120001' for key 'students.PRIMARY'\")\n"
     ]
    }
   ],
   "source": [
    "import pymysql\n",
    "\n",
    "# 插入数据\n",
    "id = '20120001'\n",
    "user = 'Bob'\n",
    "age = 20\n",
    "\n",
    "# id = '20120002'\n",
    "# user = 'Alice'\n",
    "# age = 10\n",
    "\n",
    "db = pymysql.connect(host='localhost', user='root', password='konatang', port=3306, db='spiders')\n",
    "cursor = db.cursor()\n",
    "sql = 'INSERT INTO students(id, name, age) values(%s, %s, %s)'\n",
    "# sql = 'INSERT INTO students(id, name, age) values(%s, %s, %d)'\n",
    "# sql = 'INSERT INTO %s(id, name, age) values(%s, %s, %s)'\n",
    "\n",
    "try:\n",
    "    cursor.execute(sql, (id, user, age))\n",
    "    db.commit()\n",
    "except BaseException as error:\n",
    "    print(error)\n",
    "    db.rollback()\n",
    "db.close()"
   ]
  },
  {
   "cell_type": "code",
   "execution_count": 60,
   "metadata": {},
   "outputs": [
    {
     "output_type": "stream",
     "name": "stdout",
     "text": [
      "['%s', '%s', '%s']\nSuccessful\n"
     ]
    }
   ],
   "source": [
    "import pymysql\n",
    "\n",
    "# 字典方式插入数据 \n",
    "db = pymysql.connect(host='localhost', user='root', password='konatang', port=3306, db='spiders')\n",
    "cursor = db.cursor()\n",
    "\n",
    "data = {\n",
    "    'id': '20120002',\n",
    "    'name': 'Alice',\n",
    "    'age': 18\n",
    "}\n",
    "table = 'students'\n",
    "keys = ', '.join(data.keys())\n",
    "values = ', '.join(['%s'] * len(data))\n",
    "print(['%s'] * len(data))\n",
    "sql = 'INSERT INTO {table}({keys}) VALUES ({values})'.format(table=table, keys=keys, values=values)\n",
    "try:\n",
    "   if cursor.execute(sql, tuple(data.values())):\n",
    "       print('Successful')\n",
    "       db.commit()\n",
    "except:\n",
    "    print('Failed')\n",
    "    db.rollback()\n",
    "db.close()"
   ]
  },
  {
   "cell_type": "code",
   "execution_count": 47,
   "metadata": {},
   "outputs": [],
   "source": [
    "import pymysql\n",
    "\n",
    "# 更新数据\n",
    "db = pymysql.connect(host='localhost', user='root', password='konatang', port=3306, db='spiders')\n",
    "cursor = db.cursor()\n",
    "\n",
    "sql = 'UPDATE students SET age = %s WHERE name = %s'\n",
    "try:\n",
    "   cursor.execute(sql, (25, 'Bob'))\n",
    "   db.commit()\n",
    "except:\n",
    "    print('Failed')\n",
    "    db.rollback()\n",
    "\n",
    "db.close()"
   ]
  },
  {
   "cell_type": "code",
   "execution_count": 49,
   "metadata": {},
   "outputs": [],
   "source": [
    "import pymysql\n",
    "\n",
    "# 用字典更新数据\n",
    "db = pymysql.connect(host='localhost', user='root', password='konatang', port=3306, db='spiders')\n",
    "cursor = db.cursor()\n",
    "\n",
    "data = {\n",
    "    'id': '20120001',\n",
    "    'name': 'Bob',\n",
    "    'age': 21\n",
    "}\n",
    "\n",
    "table = 'students'\n",
    "keys = ', '.join(data.keys())\n",
    "values = ', '.join(['%s'] * len(data))\n",
    "\n",
    "sql = 'INSERT INTO {table}({keys}) VALUES ({values}) ON DUPLICATE KEY UPDATE'.format(table=table, keys=keys, values=values)\n",
    "update = ','.join([\" {key} = %s\".format(key=key) for key in data])\n",
    "sql += update\n",
    "try:\n",
    "    if cursor.execute(sql, tuple(data.values())*2):\n",
    "        print('Successful')\n",
    "        db.commit()\n",
    "except:\n",
    "    print('Failed')\n",
    "    db.rollback()\n",
    "\n",
    "db.close()"
   ]
  },
  {
   "cell_type": "code",
   "execution_count": 55,
   "metadata": {},
   "outputs": [
    {
     "output_type": "stream",
     "name": "stdout",
     "text": [
      "successful\n"
     ]
    }
   ],
   "source": [
    "import pymysql\n",
    "\n",
    "# 删除数据\n",
    "db = pymysql.connect(host='localhost', user='root', password='konatang', port=3306, db='spiders')\n",
    "cursor = db.cursor()\n",
    "\n",
    "\n",
    "table = 'students'\n",
    "condition = 'age > 20'\n",
    "\n",
    "sql = 'DELETE FROM  {table} WHERE {condition}'.format(table=table, condition=condition)\n",
    "try:\n",
    "    cursor.execute(sql)\n",
    "    db.commit()\n",
    "    print('successful')\n",
    "except:\n",
    "    print('error')\n",
    "    db.rollback()\n",
    "\n",
    "db.close()"
   ]
  },
  {
   "source": [
    "import pymysql\n",
    "\n",
    "# 查询数据\n",
    "db = pymysql.connect(host='localhost', user='root', password='konatang', port=3306, db='spiders')\n",
    "cursor = db.cursor()\n",
    "\n",
    "sql = 'SELECT * FROM students WHERE age >= 0'\n",
    "\n",
    "try:\n",
    "    cursor.execute(sql)\n",
    "    print('Count:', cursor.rowcount)\n",
    "    # one = cursor.fetchone()\n",
    "    # print('One:', one)\n",
    "    # 数据量较大时不宜使用fetchall\n",
    "    # 使用fetchone: \n",
    "    # row = cursor.fetchone()\n",
    "    # while row:\n",
    "    #     print('Row:', row)\n",
    "    #     row = cursor.fetchone()\n",
    "    results = cursor.fetchall()\n",
    "    print('Results:', results)\n",
    "    print('Results Type:', type(results))\n",
    "    for row in results:\n",
    "        print(row)\n",
    "except:\n",
    "    print('Error')\n",
    "\n",
    "db.close()"
   ],
   "cell_type": "code",
   "metadata": {},
   "execution_count": 63,
   "outputs": [
    {
     "output_type": "stream",
     "name": "stdout",
     "text": [
      "Count: 2\nResults: (('20120001', 'Bob', 20), ('20120002', 'Alice', 18))\nResults Type: <class 'tuple'>\n('20120001', 'Bob', 20)\n('20120002', 'Alice', 18)\n"
     ]
    }
   ]
  },
  {
   "cell_type": "code",
   "execution_count": null,
   "metadata": {},
   "outputs": [],
   "source": []
  }
 ]
}