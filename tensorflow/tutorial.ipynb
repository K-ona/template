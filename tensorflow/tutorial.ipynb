{
 "metadata": {
  "language_info": {
   "codemirror_mode": {
    "name": "ipython",
    "version": 3
   },
   "file_extension": ".py",
   "mimetype": "text/x-python",
   "name": "python",
   "nbconvert_exporter": "python",
   "pygments_lexer": "ipython3",
   "version": "3.7.9"
  },
  "orig_nbformat": 2,
  "kernelspec": {
   "name": "python379jvsc74a57bd04ce0e62306dd6a5716965d4519ada776f947e6dfc145b604b11307c10277ef29",
   "display_name": "Python 3.7.9 64-bit"
  }
 },
 "nbformat": 4,
 "nbformat_minor": 2,
 "cells": [
  {
   "cell_type": "code",
   "execution_count": 2,
   "metadata": {},
   "outputs": [
    {
     "output_type": "stream",
     "name": "stdout",
     "text": [
      "tf.Tensor(\n[[[5 5 5 5]\n  [6 6 6 6]\n  [7 7 7 7]\n  [8 8 8 8]]\n\n [[0 0 0 0]\n  [0 0 0 0]\n  [0 0 0 0]\n  [0 0 0 0]]\n\n [[5 5 5 5]\n  [6 6 6 6]\n  [7 7 7 7]\n  [8 8 8 8]]\n\n [[0 0 0 0]\n  [0 0 0 0]\n  [0 0 0 0]\n  [0 0 0 0]]], shape=(4, 4, 4), dtype=int32)\ntf.Tensor(\n[[1 2 3 1 2 3]\n [4 5 6 4 5 6]], shape=(2, 6), dtype=int32)\n"
     ]
    }
   ],
   "source": [
    "# scatter_nd\n",
    "import tensorflow as tf\n",
    "\n",
    "indices = tf.constant([[0], [2]])\n",
    "updates = tf.constant([[[5, 5, 5, 5], [6, 6, 6, 6],\n",
    "                        [7, 7, 7, 7], [8, 8, 8, 8]],\n",
    "                        [[5, 5, 5, 5], [6, 6, 6, 6],\n",
    "                        [7, 7, 7, 7], [8, 8, 8, 8]]])\n",
    "shape = tf.constant([4, 4, 4])\n",
    "scatter = tf.scatter_nd(indices, updates, shape)\n",
    "print(scatter)\n",
    "\n",
    "# tile\n",
    "a = tf.constant([[1,2,3],[4,5,6]], tf.int32)\n",
    "b = tf.constant([1,2], tf.int32)\n",
    "print(tf.tile(a, b))"
   ]
  },
  {
   "cell_type": "code",
   "execution_count": 7,
   "metadata": {},
   "outputs": [
    {
     "output_type": "stream",
     "name": "stdout",
     "text": [
      "tf.Tensor(\n[[[0 0]\n  [0 1]\n  [0 2]\n  [0 3]]\n\n [[1 0]\n  [1 1]\n  [1 2]\n  [1 3]]\n\n [[2 0]\n  [2 1]\n  [2 2]\n  [2 3]]\n\n [[3 0]\n  [3 1]\n  [3 2]\n  [3 3]]\n\n [[4 0]\n  [4 1]\n  [4 2]\n  [4 3]]\n\n [[5 0]\n  [5 1]\n  [5 2]\n  [5 3]]\n\n [[6 0]\n  [6 1]\n  [6 2]\n  [6 3]]\n\n [[7 0]\n  [7 1]\n  [7 2]\n  [7 3]]\n\n [[8 0]\n  [8 1]\n  [8 2]\n  [8 3]]\n\n [[9 0]\n  [9 1]\n  [9 2]\n  [9 3]]], shape=(10, 4, 2), dtype=int32)\n"
     ]
    }
   ],
   "source": [
    "nums = tf.range(0, limit=10)\n",
    "# print(nums)\n",
    "nums = tf.expand_dims(nums, 1)\n",
    "# print(nums)\n",
    "\n",
    "extend_vab = tf.constant([\n",
    "        [0, 1, 2, 3],\n",
    "        [0, 1, 2, 3],\n",
    "        [0, 1, 2, 3],\n",
    "        [0, 1, 2, 3],\n",
    "        [0, 1, 2, 3],\n",
    "        [0, 1, 2, 3],\n",
    "        [0, 1, 2, 3],  \n",
    "        [0, 1, 2, 3],\n",
    "        [0, 1, 2, 3],\n",
    "        [0, 1, 2, 3]])\n",
    "# print(extend_vab)\n",
    "\n",
    "attn_len = tf.shape(extend_vab)[1]\n",
    "# print(attn_len)\n",
    "\n",
    "batch_nums = tf.tile(nums, [1, attn_len])\n",
    "# print(batch_nums)\n",
    "\n",
    "indices = tf.stack([batch_nums, extend_vab], axis=2)\n",
    "print(indices)\n",
    "\n",
    "shape = [10, 4]\n",
    "# print(indices.shape[:-1] + shape[indices.shape[-1]:])\n",
    "dists = tf.constant(\n",
    "        [[[1, 2, 3, 4],\n",
    "        [2, 3, 4, 5],\n",
    "        [1, 2, 3, 4],\n",
    "        [1, 2, 3, 4],\n",
    "        [1, 2, 3, 4],\n",
    "        [1, 2, 3, 4],\n",
    "        [1, 2, 3, 4],\n",
    "        [1, 2, 3, 4],\n",
    "        [1, 2, 3, 4],\n",
    "        [1, 2, 3, 4]]])\n",
    "\n",
    "dist = [\n",
    "        tf.scatter_nd(indices, cp_dist, shape)\n",
    "        for cp_dist in dists\n",
    "]\n",
    "# print(dist)"
   ]
  },
  {
   "cell_type": "code",
   "execution_count": 35,
   "metadata": {},
   "outputs": [
    {
     "output_type": "stream",
     "name": "stdout",
     "text": [
      "tf.Tensor(\n[[0 1]\n [1 1]\n [2 1]\n [3 1]\n [4 1]\n [5 1]\n [6 1]\n [7 1]\n [8 1]\n [9 1]], shape=(10, 2), dtype=int32)\ntf.Tensor([2 1 2 2 2 2 2 2 2 2], shape=(10,), dtype=int32)\n"
     ]
    }
   ],
   "source": [
    "import tensorflow as tf\n",
    "\n",
    "target = tf.constant([1, 1, 1, 1, 1, 1, 1, 1, 1, 1])\n",
    "batch_nums = tf.range(0, limit=10)\n",
    "\n",
    "indices = tf.stack((batch_nums, target), axis=1)\n",
    "print(indices)\n",
    "\n",
    "dists = tf.constant(\n",
    "        [[1, 2, 3, 4],\n",
    "        [2, 1, 4, 5],\n",
    "        [1, 2, 3, 4],\n",
    "        [1, 2, 3, 4],\n",
    "        [1, 2, 3, 4],\n",
    "        [1, 2, 3, 4],\n",
    "        [1, 2, 3, 4],\n",
    "        [1, 2, 3, 4],\n",
    "        [1, 2, 3, 4],\n",
    "        [1, 2, 3, 4]])\n",
    "\n",
    "gold_probs = tf.gather_nd(dists, indices)\n",
    "print(gold_probs)"
   ]
  },
  {
   "cell_type": "code",
   "execution_count": 34,
   "metadata": {},
   "outputs": [
    {
     "output_type": "stream",
     "name": "stdout",
     "text": [
      "tf.Tensor([ 3  5 13], shape=(3,), dtype=int32)\ntf.Tensor(2, shape=(), dtype=int32)\ntf.Tensor(\n[[ 1  2  3  4  5]\n [ 6  7  8  9 10]], shape=(2, 5), dtype=int32)\ntf.Tensor([1 2 3 4 5], shape=(5,), dtype=int32)\n"
     ]
    }
   ],
   "source": [
    "# tf.gather_nd\n",
    "\n",
    "import tensorflow as tf\n",
    "\n",
    "a = tf.Variable([[1, 2, 3, 4, 5],\n",
    "                 [6, 7, 8, 9, 10],\n",
    "                 [11, 12, 13, 14, 15]])\n",
    "index_a1 = tf.constant([[0, 2], [0, 4], [2, 2]])  # 随便选几个\n",
    "index_a2 = tf.constant([0, 1])  # 0行1列的元素——2\n",
    "index_a3 = tf.constant([[0], [1]])  # [第0行,第1行]\n",
    "index_a4 = tf.constant([0])  # 第0行\n",
    "\n",
    "print(tf.gather_nd(a, index_a1))\n",
    "print(tf.gather_nd(a, index_a2))\n",
    "print(tf.gather_nd(a, index_a3))\n",
    "print(tf.gather_nd(a, index_a4))"
   ]
  },
  {
   "cell_type": "code",
   "execution_count": 40,
   "metadata": {},
   "outputs": [
    {
     "output_type": "execute_result",
     "data": {
      "text/plain": [
       "<tf.Tensor: shape=(2,), dtype=int32, numpy=array([2, 3])>"
      ]
     },
     "metadata": {},
     "execution_count": 40
    }
   ],
   "source": [
    "x = tf.constant([[1, 1, 0], [1, 1, 1]])\n",
    "tf.reduce_sum(x)  # 6\n",
    "tf.reduce_sum(x, 0)  # [2, 2, 2]\n",
    "tf.reduce_sum(x, 1)  # [3, 3]\n",
    "# tf.reduce_sum(x, 1, keepdims=True)  # [[3], [3]]\n",
    "# tf.reduce_sum(x, [0, 1])  # 6"
   ]
  }
 ]
}