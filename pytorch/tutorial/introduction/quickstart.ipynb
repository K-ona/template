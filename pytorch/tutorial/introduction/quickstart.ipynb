{
 "metadata": {
  "language_info": {
   "codemirror_mode": {
    "name": "ipython",
    "version": 3
   },
   "file_extension": ".py",
   "mimetype": "text/x-python",
   "name": "python",
   "nbconvert_exporter": "python",
   "pygments_lexer": "ipython3",
   "version": "3.7.9"
  },
  "orig_nbformat": 2,
  "kernelspec": {
   "name": "python379jvsc74a57bd04ce0e62306dd6a5716965d4519ada776f947e6dfc145b604b11307c10277ef29",
   "display_name": "Python 3.7.9 64-bit"
  }
 },
 "nbformat": 4,
 "nbformat_minor": 2,
 "cells": [
  {
   "cell_type": "code",
   "execution_count": 1,
   "metadata": {},
   "outputs": [],
   "source": [
    "import torch\n",
    "from torch import nn\n",
    "from torch.utils.data import DataLoader\n",
    "from torchvision import datasets\n",
    "from torchvision.transforms import ToTensor, Lambda, Compose\n",
    "import matplotlib.pyplot as plt"
   ]
  },
  {
   "cell_type": "code",
   "execution_count": 2,
   "metadata": {},
   "outputs": [],
   "source": [
    "# Download training data from open datasets.\n",
    "training_data = datasets.FashionMNIST(\n",
    "    root=\"data\",\n",
    "    train=True,\n",
    "    download=True,\n",
    "    transform=ToTensor(),\n",
    ")\n",
    "\n",
    "# Download test data from open datasets.\n",
    "test_data = datasets.FashionMNIST(\n",
    "    root=\"data\",\n",
    "    train=False,\n",
    "    download=True,\n",
    "    transform=ToTensor(),\n",
    ")"
   ]
  },
  {
   "cell_type": "code",
   "execution_count": 3,
   "metadata": {},
   "outputs": [
    {
     "output_type": "stream",
     "name": "stdout",
     "text": [
      "Shape of X [N, C, H, W]:  torch.Size([64, 1, 28, 28])\nShape of y:  torch.Size([64]) torch.int64\n"
     ]
    }
   ],
   "source": [
    "batch_size = 64\n",
    "\n",
    "# Create data loaders.\n",
    "train_dataloader = DataLoader(training_data, batch_size=batch_size)\n",
    "test_dataloader = DataLoader(test_data, batch_size=batch_size)\n",
    "\n",
    "for X, y in test_dataloader:\n",
    "    print(\"Shape of X [N, C, H, W]: \", X.shape)\n",
    "    print(\"Shape of y: \", y.shape, y.dtype)\n",
    "    break"
   ]
  },
  {
   "cell_type": "code",
   "execution_count": 13,
   "metadata": {},
   "outputs": [
    {
     "output_type": "stream",
     "name": "stdout",
     "text": [
      "Using cuda device\nNeuralNetwork(\n  (flatten): Flatten()\n  (linear_relu_stack): Sequential(\n    (0): Linear(in_features=784, out_features=512, bias=True)\n    (1): ReLU()\n    (2): Linear(in_features=512, out_features=512, bias=True)\n    (3): ReLU()\n    (4): Linear(in_features=512, out_features=10, bias=True)\n    (5): ReLU()\n  )\n)\nLayer: linear_relu_stack.0.weight | Size: torch.Size([512, 784]) | Values : tensor([[ 0.0189, -0.0216, -0.0234,  ...,  0.0257,  0.0223, -0.0320],\n        [ 0.0346, -0.0319, -0.0020,  ..., -0.0164,  0.0263,  0.0205]],\n       device='cuda:0', grad_fn=<SliceBackward>) \n\nLayer: linear_relu_stack.0.bias | Size: torch.Size([512]) | Values : tensor([0.0017, 0.0222], device='cuda:0', grad_fn=<SliceBackward>) \n\nLayer: linear_relu_stack.2.weight | Size: torch.Size([512, 512]) | Values : tensor([[ 0.0048,  0.0048,  0.0412,  ..., -0.0221, -0.0100,  0.0421],\n        [-0.0037, -0.0236, -0.0122,  ...,  0.0056, -0.0404,  0.0029]],\n       device='cuda:0', grad_fn=<SliceBackward>) \n\nLayer: linear_relu_stack.2.bias | Size: torch.Size([512]) | Values : tensor([ 0.0403, -0.0266], device='cuda:0', grad_fn=<SliceBackward>) \n\nLayer: linear_relu_stack.4.weight | Size: torch.Size([10, 512]) | Values : tensor([[-0.0047,  0.0030, -0.0069,  ..., -0.0387,  0.0164, -0.0209],\n        [-0.0201,  0.0218, -0.0296,  ..., -0.0008,  0.0352, -0.0042]],\n       device='cuda:0', grad_fn=<SliceBackward>) \n\nLayer: linear_relu_stack.4.bias | Size: torch.Size([10]) | Values : tensor([-0.0104, -0.0423], device='cuda:0', grad_fn=<SliceBackward>) \n\n"
     ]
    }
   ],
   "source": [
    "# Get cpu or gpu device for training.\n",
    "device = \"cuda\" if torch.cuda.is_available() else \"cpu\"\n",
    "print(\"Using {} device\".format(device))\n",
    "\n",
    "# Define model\n",
    "class NeuralNetwork(nn.Module):\n",
    "    def __init__(self):\n",
    "        super(NeuralNetwork, self).__init__()\n",
    "        self.flatten = nn.Flatten()\n",
    "        self.linear_relu_stack = nn.Sequential(\n",
    "            nn.Linear(28*28, 512),\n",
    "            nn.ReLU(),\n",
    "            nn.Linear(512, 512),\n",
    "            nn.ReLU(),\n",
    "            nn.Linear(512, 10),\n",
    "            nn.ReLU()\n",
    "        )\n",
    "\n",
    "    def forward(self, x):\n",
    "        x = self.flatten(x)\n",
    "        logits = self.linear_relu_stack(x)\n",
    "        return logits\n",
    "\n",
    "model = NeuralNetwork().to(device)\n",
    "print(model)\n",
    "for name, param in model.named_parameters():\n",
    "    print(f\"Layer: {name} | Size: {param.size()} | Values : {param[:2]} \\n\")"
   ]
  },
  {
   "cell_type": "code",
   "execution_count": 5,
   "metadata": {},
   "outputs": [],
   "source": [
    "loss_fn = nn.CrossEntropyLoss() \n",
    "optimizer = torch.optim.SGD(model.parameters(), lr=0.003)"
   ]
  },
  {
   "cell_type": "code",
   "execution_count": 6,
   "metadata": {},
   "outputs": [],
   "source": [
    "def train(dataloader, model, loss_fn, optimizer):\n",
    "    size = len(dataloader)\n",
    "    for batch, (X, y) in enumerate(dataloader):\n",
    "        X, y = X.to(device), y.to(device)\n",
    "        \n",
    "        # predict\n",
    "        pred = model(X)\n",
    "        loss = loss_fn(pred, y)\n",
    "\n",
    "        # backpropagation\n",
    "        optimizer.zero_grad()\n",
    "        loss.backward()\n",
    "        # print(mode)\n",
    "        optimizer.step() \n",
    "        \n",
    "        if batch % 100 == 0:\n",
    "            loss, current = loss.item(), batch * len(X)\n",
    "            print(f\"loss: {loss:>7f}  [{current:>5d}/{size:>5d}]\")\n"
   ]
  },
  {
   "cell_type": "code",
   "execution_count": 7,
   "metadata": {},
   "outputs": [],
   "source": [
    "def test(dataloader, model):\n",
    "    size = len(dataloader.dataset)\n",
    "    model.eval()\n",
    "    test_loss, correct = 0, 0\n",
    "    with torch.no_grad():\n",
    "        for X, y in dataloader:\n",
    "            X, y = X.to(device), y.to(device)\n",
    "            pred = model(X)\n",
    "            test_loss += loss_fn(pred, y).item()\n",
    "            correct += (pred.argmax(1) == y).type(torch.float).sum().item()\n",
    "    test_loss /= size\n",
    "    correct /= size\n",
    "    print(f\"Test Error: \\n Accuracy: {(100*correct):>0.1f}%, Avg loss: {test_loss:>8f} \\n\")"
   ]
  },
  {
   "cell_type": "code",
   "execution_count": 8,
   "metadata": {},
   "outputs": [
    {
     "output_type": "stream",
     "name": "stdout",
     "text": [
      "Epoch 1\n",
      "-------------------------------\n",
      "loss: 2.301619  [    0/  938]\n",
      "loss: 2.291143  [ 6400/  938]\n",
      "loss: 2.277764  [12800/  938]\n",
      "loss: 2.268667  [19200/  938]\n",
      "loss: 2.270369  [25600/  938]\n",
      "loss: 2.258356  [32000/  938]\n",
      "loss: 2.202548  [38400/  938]\n",
      "loss: 2.200489  [44800/  938]\n",
      "loss: 2.156423  [51200/  938]\n",
      "loss: 2.103372  [57600/  938]\n",
      "Test Error: \n",
      " Accuracy: 34.0%, Avg loss: 0.033559 \n",
      "\n",
      "Epoch 2\n",
      "-------------------------------\n",
      "loss: 2.134953  [    0/  938]\n",
      "loss: 2.141192  [ 6400/  938]\n",
      "loss: 2.053026  [12800/  938]\n",
      "loss: 2.004858  [19200/  938]\n",
      "loss: 2.113880  [25600/  938]\n",
      "loss: 2.073124  [32000/  938]\n",
      "loss: 1.893617  [38400/  938]\n",
      "loss: 1.948095  [44800/  938]\n",
      "loss: 1.901089  [51200/  938]\n",
      "loss: 1.814688  [57600/  938]\n",
      "Test Error: \n",
      " Accuracy: 35.5%, Avg loss: 0.029994 \n",
      "\n",
      "Epoch 3\n",
      "-------------------------------\n",
      "loss: 1.913880  [    0/  938]\n",
      "loss: 1.959807  [ 6400/  938]\n",
      "loss: 1.827847  [12800/  938]\n",
      "loss: 1.823467  [19200/  938]\n",
      "loss: 2.027972  [25600/  938]\n",
      "loss: 1.935331  [32000/  938]\n",
      "loss: 1.742869  [38400/  938]\n",
      "loss: 1.821004  [44800/  938]\n",
      "loss: 1.808786  [51200/  938]\n",
      "loss: 1.720208  [57600/  938]\n",
      "Test Error: \n",
      " Accuracy: 36.5%, Avg loss: 0.028702 \n",
      "\n",
      "Epoch 4\n",
      "-------------------------------\n",
      "loss: 1.819668  [    0/  938]\n",
      "loss: 1.881580  [ 6400/  938]\n",
      "loss: 1.738901  [12800/  938]\n",
      "loss: 1.751069  [19200/  938]\n",
      "loss: 1.996746  [25600/  938]\n",
      "loss: 1.883883  [32000/  938]\n",
      "loss: 1.689120  [38400/  938]\n",
      "loss: 1.774684  [44800/  938]\n",
      "loss: 1.774009  [51200/  938]\n",
      "loss: 1.677028  [57600/  938]\n",
      "Test Error: \n",
      " Accuracy: 36.8%, Avg loss: 0.028146 \n",
      "\n",
      "Epoch 5\n",
      "-------------------------------\n",
      "loss: 1.774427  [    0/  938]\n",
      "loss: 1.844100  [ 6400/  938]\n",
      "loss: 1.699987  [12800/  938]\n",
      "loss: 1.711533  [19200/  938]\n",
      "loss: 1.980412  [25600/  938]\n",
      "loss: 1.858706  [32000/  938]\n",
      "loss: 1.661111  [38400/  938]\n",
      "loss: 1.756535  [44800/  938]\n",
      "loss: 1.756369  [51200/  938]\n",
      "loss: 1.650635  [57600/  938]\n",
      "Test Error: \n",
      " Accuracy: 37.0%, Avg loss: 0.027820 \n",
      "\n",
      "Done!\n"
     ]
    }
   ],
   "source": [
    "epochs = 5\n",
    "for t in range(epochs):\n",
    "    print(f\"Epoch {t+1}\\n-------------------------------\")\n",
    "    train(train_dataloader, model, loss_fn, optimizer)\n",
    "    test(test_dataloader, model)\n",
    "print(\"Done!\")"
   ]
  },
  {
   "source": [
    "Saving Models"
   ],
   "cell_type": "markdown",
   "metadata": {}
  },
  {
   "cell_type": "code",
   "execution_count": 10,
   "metadata": {},
   "outputs": [
    {
     "output_type": "stream",
     "name": "stdout",
     "text": [
      "Saved PyTorch Model State to model.pth\n"
     ]
    }
   ],
   "source": [
    "torch.save(model.state_dict(), \"model.pth\")\n",
    "print(\"Saved PyTorch Model State to model.pth\")"
   ]
  },
  {
   "source": [
    "Loading Models"
   ],
   "cell_type": "markdown",
   "metadata": {}
  },
  {
   "cell_type": "code",
   "execution_count": 11,
   "metadata": {},
   "outputs": [
    {
     "output_type": "execute_result",
     "data": {
      "text/plain": [
       "<All keys matched successfully>"
      ]
     },
     "metadata": {},
     "execution_count": 11
    }
   ],
   "source": [
    "model = NeuralNetwork()\n",
    "model.load_state_dict(torch.load(\"model.pth\"))"
   ]
  },
  {
   "cell_type": "code",
   "execution_count": 12,
   "metadata": {},
   "outputs": [
    {
     "output_type": "stream",
     "name": "stdout",
     "text": [
      "Predicted: \"Trouser\", Actual: \"Ankle boot\"\n"
     ]
    }
   ],
   "source": [
    "classes = [\n",
    "    \"T-shirt/top\",\n",
    "    \"Trouser\",\n",
    "    \"Pullover\",\n",
    "    \"Dress\",\n",
    "    \"Coat\",\n",
    "    \"Sandal\",\n",
    "    \"Shirt\",\n",
    "    \"Sneaker\",\n",
    "    \"Bag\",\n",
    "    \"Ankle boot\",\n",
    "]\n",
    "\n",
    "model.eval()\n",
    "x, y = test_data[0][0], test_data[0][1]\n",
    "with torch.no_grad():\n",
    "    pred = model(x)\n",
    "    predicted, actual = classes[pred[0].argmax(0)], classes[y]\n",
    "    print(f'Predicted: \"{predicted}\", Actual: \"{actual}\"')"
   ]
  }
 ]
}