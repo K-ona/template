{
 "metadata": {
  "language_info": {
   "codemirror_mode": {
    "name": "ipython",
    "version": 3
   },
   "file_extension": ".py",
   "mimetype": "text/x-python",
   "name": "python",
   "nbconvert_exporter": "python",
   "pygments_lexer": "ipython3",
   "version": "3.7.9-final"
  },
  "orig_nbformat": 2,
  "kernelspec": {
   "name": "python3",
   "display_name": "Python 3",
   "language": "python"
  }
 },
 "nbformat": 4,
 "nbformat_minor": 2,
 "cells": [
  {
   "cell_type": "code",
   "execution_count": 9,
   "metadata": {},
   "outputs": [
    {
     "output_type": "stream",
     "name": "stdout",
     "text": [
      "tensor([[1, 2, 3, 4]])\ntensor([[1],\n        [2],\n        [3],\n        [4]])\n"
     ]
    }
   ],
   "source": [
    "# torch.Tensor.unsqueeze(dim)\n",
    "# 插入维度1在指定dim上\n",
    "# 同torch.unsqueeze(input, dim) → Tensor\n",
    "x = torch.tensor([1, 2, 3, 4])\n",
    "print(x.unsqueeze(0))\n",
    "print(x.unsqueeze(1))"
   ]
  },
  {
   "cell_type": "code",
   "execution_count": null,
   "metadata": {},
   "outputs": [],
   "source": [
    "# torch.Tensor.view\n"
   ]
  },
  {
   "cell_type": "code",
   "execution_count": 6,
   "metadata": {},
   "outputs": [
    {
     "output_type": "stream",
     "name": "stdout",
     "text": [
      "True\nTrue\nFalse\nFalse\nTrue\n"
     ]
    }
   ],
   "source": [
    "# torch.Tensor.contiguous(memory_format=torch.contiguous_format)\n",
    "# view 操作依赖于内存是连续的\n",
    "import torch\n",
    "x = torch.ones(10, 10)\n",
    "print(x.is_contiguous())  # True\n",
    "print(x.view(5, -1).is_contiguous()) # True\n",
    "print(x.view(2, -1).transpose(0, 1).is_contiguous()) # False\n",
    "print(x.transpose(0, 1).is_contiguous())  # False\n",
    "print(x.transpose(0, 1).contiguous().is_contiguous())  # True"
   ]
  },
  {
   "cell_type": "code",
   "execution_count": 10,
   "metadata": {},
   "outputs": [
    {
     "output_type": "error",
     "ename": "NameError",
     "evalue": "name 'self' is not defined",
     "traceback": [
      "\u001b[1;31m---------------------------------------------------------------------------\u001b[0m",
      "\u001b[1;31mNameError\u001b[0m                                 Traceback (most recent call last)",
      "\u001b[1;32m<ipython-input-10-86546918f5eb>\u001b[0m in \u001b[0;36m<module>\u001b[1;34m\u001b[0m\n\u001b[0;32m      3\u001b[0m \u001b[1;31m# Buffers can be accessed as attributes using given names.\u001b[0m\u001b[1;33m\u001b[0m\u001b[1;33m\u001b[0m\u001b[1;33m\u001b[0m\u001b[0m\n\u001b[0;32m      4\u001b[0m \u001b[1;33m\u001b[0m\u001b[0m\n\u001b[1;32m----> 5\u001b[1;33m \u001b[0mself\u001b[0m\u001b[1;33m.\u001b[0m\u001b[0mregister_buffer\u001b[0m\u001b[1;33m(\u001b[0m\u001b[1;34m'running_mean'\u001b[0m\u001b[1;33m,\u001b[0m \u001b[0mtorch\u001b[0m\u001b[1;33m.\u001b[0m\u001b[0mzeros\u001b[0m\u001b[1;33m(\u001b[0m\u001b[0mnum_features\u001b[0m\u001b[1;33m)\u001b[0m\u001b[1;33m)\u001b[0m\u001b[1;33m\u001b[0m\u001b[1;33m\u001b[0m\u001b[0m\n\u001b[0m",
      "\u001b[1;31mNameError\u001b[0m: name 'self' is not defined"
     ]
    }
   ],
   "source": [
    "# torch.nn.Module.register_buffer\n",
    "# register_buffer(name: str, tensor: Optional[torch.Tensor], persistent: bool = True) → None\n",
    "# Buffers can be accessed as attributes using given names.\n",
    "\n",
    "self.register_buffer('running_mean', torch.zeros(num_features))"
   ]
  },
  {
   "cell_type": "code",
   "execution_count": 27,
   "metadata": {},
   "outputs": [
    {
     "output_type": "stream",
     "name": "stdout",
     "text": [
      "<class 'torch.nn.parameter.Parameter'> torch.Size([30, 20])\n<class 'torch.nn.parameter.Parameter'> torch.Size([30])\n"
     ]
    }
   ],
   "source": [
    "# torch.nn.Module.parameters\n",
    "from torch.nn import Module\n",
    "\n",
    "model = torch.nn.Linear(20, 30)\n",
    "for param in model.parameters():\n",
    "    print(type(param), param.size())"
   ]
  }
 ]
}