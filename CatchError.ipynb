{
 "metadata": {
  "language_info": {
   "codemirror_mode": {
    "name": "ipython",
    "version": 3
   },
   "file_extension": ".py",
   "mimetype": "text/x-python",
   "name": "python",
   "nbconvert_exporter": "python",
   "pygments_lexer": "ipython3",
   "version": "3.7.9-final"
  },
  "orig_nbformat": 2,
  "kernelspec": {
   "name": "python3",
   "display_name": "Python 3",
   "language": "python"
  }
 },
 "nbformat": 4,
 "nbformat_minor": 2,
 "cells": [
  {
   "cell_type": "code",
   "execution_count": 20,
   "metadata": {},
   "outputs": [
    {
     "output_type": "stream",
     "name": "stdout",
     "text": [
      "NameError\n{'a': 0, 'b': 1, 'c': 2}\n"
     ]
    }
   ],
   "source": [
    "a = 1\n",
    "try:\n",
    "    a = b \n",
    "except NameError:\n",
    "    print('NameError')\n",
    "except BaseException as error:\n",
    "    print(error)\n",
    "else:\n",
    "    print('else block')\n",
    "finally:\n",
    "    print(s)"
   ]
  }
 ]
}