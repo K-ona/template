{
 "metadata": {
  "language_info": {
   "codemirror_mode": {
    "name": "ipython",
    "version": 3
   },
   "file_extension": ".py",
   "mimetype": "text/x-python",
   "name": "python",
   "nbconvert_exporter": "python",
   "pygments_lexer": "ipython3",
   "version": "3.7.9-final"
  },
  "orig_nbformat": 2,
  "kernelspec": {
   "name": "python3",
   "display_name": "Python 3"
  }
 },
 "nbformat": 4,
 "nbformat_minor": 2,
 "cells": [
  {
   "cell_type": "code",
   "execution_count": 1,
   "metadata": {},
   "outputs": [
    {
     "output_type": "stream",
     "name": "stdout",
     "text": [
      "[('a', 1), ('c', 2), ('b', 4), ('f', 12)]\n[('f', 12), ('b', 4), ('c', 2), ('a', 1)]\n[('a', 1), ('b', 4), ('c', 2), ('f', 12)]\n[('a', 1), ('c', 2), ('b', 4), ('f', 12)]\n[('a', 1), ('b', 4), ('c', 2), ('f', 12)]\n"
     ]
    }
   ],
   "source": [
    "# 字典排序\n",
    "\n",
    "d = {'a': 1, 'b': 4, 'c': 2, 'f' : 12}\n",
    " \n",
    "# 第一种方法，key使用lambda匿名函数取value进行排序\n",
    "a = sorted(d.items(), key=lambda x: x[1])\n",
    "a1 = sorted(d.items(),key = lambda x:x[1],reverse = True)\n",
    " \n",
    "# key使用lambda匿名函数按键进行排序\n",
    "a2 = sorted(d.items(),key = lambda x:x[0])\n",
    " \n",
    "# 第二种方法使用operator的itemgetter进行排序\n",
    "import operator\n",
    "b = sorted(d.items(), key=operator.itemgetter(1))\n",
    " \n",
    "# 第三种方法讲key和value分装成元祖，在进行排序\n",
    "f = zip(d.keys(), d.values())\n",
    "c = sorted(f)\n",
    " \n",
    "print(a)\n",
    "print(a1)\n",
    "print(a2)\n",
    "print(b)\n",
    "print(c)"
   ]
  },
  {
   "cell_type": "code",
   "execution_count": 1,
   "metadata": {},
   "outputs": [
    {
     "output_type": "stream",
     "name": "stdout",
     "text": [
      "{1: '1', 2: '2', 3: '3', 4: '4'}\n"
     ]
    }
   ],
   "source": [
    "# zip()\n",
    "\n",
    "keys = [1, 2, 3, 4]\n",
    "values = ['1', '2', '3', '4']\n",
    "print(dict(zip(keys, values)))"
   ]
  },
  {
   "cell_type": "code",
   "execution_count": 2,
   "metadata": {},
   "outputs": [
    {
     "output_type": "stream",
     "name": "stdout",
     "text": [
      "defaultdict(<class 'int'>, {'1': 1})\n"
     ]
    }
   ],
   "source": [
    "# defaultdict\n",
    "from collections import defaultdict\n",
    "\n",
    "d = defaultdict(int)\n",
    "d['1'] += 1\n",
    "print(d)"
   ]
  }
 ]
}