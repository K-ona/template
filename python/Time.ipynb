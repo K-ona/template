{
 "metadata": {
  "language_info": {
   "codemirror_mode": {
    "name": "ipython",
    "version": 3
   },
   "file_extension": ".py",
   "mimetype": "text/x-python",
   "name": "python",
   "nbconvert_exporter": "python",
   "pygments_lexer": "ipython3",
   "version": "3.7.9-final"
  },
  "orig_nbformat": 2,
  "kernelspec": {
   "name": "Python 3.7.9 64-bit",
   "display_name": "Python 3.7.9 64-bit",
   "metadata": {
    "interpreter": {
     "hash": "4ce0e62306dd6a5716965d4519ada776f947e6dfc145b604b11307c10277ef29"
    }
   }
  }
 },
 "nbformat": 4,
 "nbformat_minor": 2,
 "cells": [
  {
   "cell_type": "code",
   "execution_count": 2,
   "metadata": {},
   "outputs": [
    {
     "output_type": "stream",
     "name": "stdout",
     "text": [
      "7.980000009411015e-05\n"
     ]
    }
   ],
   "source": [
    "# 计算间隔时间，单位：秒\n",
    "import time\n",
    "\n",
    "t1 = time.perf_counter()\n",
    "print(time.perf_counter()-t1)"
   ]
  },
  {
   "cell_type": "code",
   "execution_count": 3,
   "metadata": {},
   "outputs": [
    {
     "output_type": "stream",
     "name": "stdout",
     "text": [
      "time.struct_time(tm_year=1970, tm_mon=1, tm_mday=1, tm_hour=0, tm_min=0, tm_sec=0, tm_wday=3, tm_yday=1, tm_isdst=0)\ntime.struct_time(tm_year=2020, tm_mon=10, tm_mday=26, tm_hour=5, tm_min=49, tm_sec=39, tm_wday=0, tm_yday=300, tm_isdst=0)\ntime.struct_time(tm_year=2020, tm_mon=10, tm_mday=26, tm_hour=13, tm_min=49, tm_sec=39, tm_wday=0, tm_yday=300, tm_isdst=0)\n"
     ]
    }
   ],
   "source": [
    "# get current time\n",
    "import time\n",
    "\n",
    "print(time.gmtime(0)) # get epoch \n",
    "print(time.gmtime()) # UTC \n",
    "print(time.localtime()) #local time"
   ]
  }
 ]
}