{
 "metadata": {
  "language_info": {
   "codemirror_mode": {
    "name": "ipython",
    "version": 3
   },
   "file_extension": ".py",
   "mimetype": "text/x-python",
   "name": "python",
   "nbconvert_exporter": "python",
   "pygments_lexer": "ipython3",
   "version": "3.7.9-final"
  },
  "orig_nbformat": 2,
  "kernelspec": {
   "name": "Python 3.7.9 64-bit",
   "display_name": "Python 3.7.9 64-bit",
   "metadata": {
    "interpreter": {
     "hash": "d94ea807e9dd88dec85d6135010093db08445b4f78f2386ac1d177de969ce657"
    }
   }
  }
 },
 "nbformat": 4,
 "nbformat_minor": 2,
 "cells": [
  {
   "cell_type": "code",
   "execution_count": 2,
   "metadata": {
    "tags": []
   },
   "outputs": [
    {
     "output_type": "stream",
     "name": "stdout",
     "text": [
      "0 one\n1 two\n2 three\nTrue\n"
     ]
    }
   ],
   "source": [
    "# enumerate\n",
    "\n",
    "list = ['one', 'two', 'three']\n",
    "for index, val in enumerate(list):\n",
    "    print(index, val)\n",
    "# 是否是某对象的实例 如\n",
    "print(isinstance(\"123\", str))"
   ]
  },
  {
   "cell_type": "code",
   "execution_count": 1,
   "metadata": {
    "tags": []
   },
   "outputs": [
    {
     "output_type": "stream",
     "name": "stdout",
     "text": "case 0: \n\n6\n8\n\n case 1: \n\n[3, 4, 5]\n[3, 4, 5]\n[3, 4, 5]\n\n case 2: \n\n(2, 3, 4)\n\n case 3: \n\n{'b': 1, 'c': 2, 'd': 3}\n\n case 4: \n\n1 2\n1 2\n(2, 3)\n\n case 4: \n\n{'x': 1, 'y': 2, 'c': 3, 'd': 4}\n1 2\n"
    }
   ],
   "source": [
    "# *的用法\n",
    "# case 0: 一个*乘法，两个*指数\n",
    "print('case 0:', '\\n')\n",
    "\n",
    "print(2*3)\n",
    "print(2**3)\n",
    "\n",
    "# case 1: 接受多余的值组成list\n",
    "print('\\n', 'case 1:', '\\n')\n",
    "\n",
    "a, b, *c = [1, 2, 3, 4, 5]\n",
    "print(c)\n",
    "a, b, *c = (1, 2, 3, 4, 5)\n",
    "print(c)\n",
    "a, b, *c = 1, 2, 3, 4, 5\n",
    "print(c)\n",
    "\n",
    "# case 2: 在函数定义时，一个*表示收集参数，得到一个元组\n",
    "print('\\n', 'case 2:', '\\n')\n",
    "\n",
    "def fun(a : int, *para):\n",
    "    print(para)\n",
    "\n",
    "fun(1, 2, 3, 4)\n",
    "\n",
    "# case 3: 在函数定义时，两个*表示关键字参数，得到一个字典\n",
    "print('\\n', 'case 3:', '\\n')\n",
    "\n",
    "def fun(a : int, **para):\n",
    "    print(para)\n",
    "fun(1, b = 1, c = 2, d = 3)\n",
    "\n",
    "# case 4: 在函数调用时，一个*表示传入列表或元组的元素作为参数\n",
    "print('\\n', 'case 4:', '\\n')\n",
    "\n",
    "def fun(a, *para):\n",
    "    print(para)\n",
    "\n",
    "def fun1(a, para):\n",
    "    print(a, para)\n",
    "\n",
    "fun1(*[1, 2])\n",
    "fun1(*(1, 2))\n",
    "fun(*[1, 2, 3]) #相对直接传递一个列表\n",
    "\n",
    "# case 5: 在函数调用时，两个*表示传入字典的元素作为关键字参数\n",
    "print('\\n', 'case 4:', '\\n')\n",
    "\n",
    "para_dict = {'x':1, 'y':2, 'c':3, 'd':4}\n",
    "def fun(**para):\n",
    "    print(para)\n",
    "\n",
    "fun(**para_dict) #相当于直接传递一个字典\n",
    "\n",
    "def fun(x, y, **para):\n",
    "    print(x, y)\n",
    "\n",
    "fun(**para_dict)"
   ]
  },
  {
   "cell_type": "code",
   "execution_count": null,
   "metadata": {},
   "outputs": [],
   "source": []
  }
 ]
}